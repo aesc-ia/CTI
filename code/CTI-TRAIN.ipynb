{
 "cells": [
  {
   "cell_type": "markdown",
   "metadata": {},
   "source": [
    "### Importação do pacote para uso de cubos do Microstrategy"
   ]
  },
  {
   "cell_type": "code",
   "execution_count": 1,
   "metadata": {},
   "outputs": [],
   "source": [
    "from mstrio import microstrategy"
   ]
  },
  {
   "cell_type": "code",
   "execution_count": 2,
   "metadata": {},
   "outputs": [],
   "source": [
    "import pandas as pd\n",
    "from sklearn.feature_extraction.text import TfidfVectorizer\n",
    "#from nltk.corpus import stopwords\n",
    "from sklearn.ensemble import RandomForestClassifier\n",
    "from sklearn.model_selection import cross_val_score\n",
    "import numpy"
   ]
  },
  {
   "cell_type": "code",
   "execution_count": 3,
   "metadata": {},
   "outputs": [],
   "source": [
    "conn = microstrategy.Connection(base_url=\"http://aesc-biweb-01.hmd.local:8080/MicroStrategyLibrary/api\", username=\"administrator\", password=\"ferias2018\", project_name=\"IA\")\n",
    "conn.connect()"
   ]
  },
  {
   "cell_type": "markdown",
   "metadata": {},
   "source": [
    "### Leitura dos Datasets"
   ]
  },
  {
   "cell_type": "code",
   "execution_count": 4,
   "metadata": {},
   "outputs": [],
   "source": [
    "agenda2 = conn.get_report(report_id='FECD8AEF4DA2760D0342AD8123C26C25')\n",
    "produtos2 = conn.get_report(report_id='988CD01740D0F6FE7A9244AFD07B765C')\n",
    "procedimentos2 = conn.get_report(report_id='ABC22A9346139589A76381B525C7A377')"
   ]
  },
  {
   "cell_type": "markdown",
   "metadata": {},
   "source": [
    "### Preciso exportar para conseguir que os objetos ficam com o mesmo datatype"
   ]
  },
  {
   "cell_type": "code",
   "execution_count": 5,
   "metadata": {},
   "outputs": [],
   "source": [
    "agenda2.to_excel('obs_2019.xlsx')\n",
    "agenda2.to_excel('prod_2019.xlsx')\n",
    "agenda2.to_excel('proc_2019.xlsx')"
   ]
  },
  {
   "cell_type": "markdown",
   "metadata": {},
   "source": [
    "### Leitura do excel recem exportado."
   ]
  },
  {
   "cell_type": "code",
   "execution_count": 6,
   "metadata": {},
   "outputs": [],
   "source": [
    "cut_num = 60000\n",
    "agenda = pd.read_excel('obs_2019.xlsx', nrows=cut_num)\n",
    "produtos = pd.read_excel('prod_2019.xlsx') \n",
    "procedimentos = pd.read_excel('proc_2019.xlsx')"
   ]
  },
  {
   "cell_type": "code",
   "execution_count": 7,
   "metadata": {},
   "outputs": [],
   "source": [
    "agenda = agenda.astype({'CD_AVISO_CIRURGIA':int})\n",
    "#agenda2 = agenda2.astype({'CD_AVISO_CIRURGIA':int})"
   ]
  },
  {
   "cell_type": "code",
   "execution_count": 11,
   "metadata": {},
   "outputs": [
    {
     "name": "stdout",
     "output_type": "stream",
     "text": [
      "       Unnamed: 0  CD_AVISO_CIRURGIA  CD_CIR  PROCEDIMENTO  VL_IDADE  \\\n",
      "0               0             502273     NaN           NaN      53.0   \n",
      "1               1             512641     NaN           NaN      17.0   \n",
      "2               2             512641     NaN           NaN      17.0   \n",
      "3               3             514990     NaN           NaN      38.0   \n",
      "4               4             514990     NaN           NaN      38.0   \n",
      "...           ...                ...     ...           ...       ...   \n",
      "33761         761             640593     NaN           NaN      65.0   \n",
      "33762         762             640612     NaN           NaN      76.0   \n",
      "33763         763             640629     NaN           NaN      70.0   \n",
      "33764         764             640783     NaN           NaN      73.0   \n",
      "33765         765             640783     NaN           NaN      73.0   \n",
      "\n",
      "                                           DS_OBSERVACAO  DS_PRODUTO  \\\n",
      "0      BX DE VÉSPERA    COM UTI AG POR SEC MICHELLE D...         NaN   \n",
      "1      BX NO DIAAGENDADO POR EMAIL DN 19032000GUIAS E...         NaN   \n",
      "2                                        nan nan nan nan         NaN   \n",
      "3      PROC DO DR GERSON JUNQUEIRA 1109 ANA  AGENDADO...         NaN   \n",
      "4                                        nan nan nan nan         NaN   \n",
      "...                                                  ...         ...   \n",
      "33761  AUT PELA ENF CRISBX VIA EMERGENCIA AGEND COM L...         NaN   \n",
      "33762  0511   AUTORIZADO POR ENF RUDI FALCÃO    PACIE...         NaN   \n",
      "33763  0511    AUTORIZADO POR ENF RUDI FALCÃO    PACI...         NaN   \n",
      "33764  0611    PROCEDIMENTO SERÁ AS 1430 NA TOMO  AUT...         NaN   \n",
      "33765                                    nan nan nan nan         NaN   \n",
      "\n",
      "                    DATA_CIR  SN_UTI  VL_PROCEDIMENTO  VL_DS_PRODUTO  \n",
      "0       1/22/2018 1:00:00 PM       1               13             13  \n",
      "1      11/21/2017 7:30:00 AM       1                8              8  \n",
      "2      11/21/2017 7:30:00 AM       1               32            104  \n",
      "3      11/18/2017 7:30:00 AM       0                3              3  \n",
      "4      11/18/2017 7:30:00 AM       0                3              3  \n",
      "...                      ...     ...              ...            ...  \n",
      "33761   11/6/2019 5:00:00 PM       0                2              2  \n",
      "33762   11/6/2019 8:45:00 AM       1                9              9  \n",
      "33763  11/6/2019 12:30:00 PM       0                9              9  \n",
      "33764   11/6/2019 4:30:00 PM       0                5              5  \n",
      "33765   11/6/2019 4:30:00 PM       0                5              5  \n",
      "\n",
      "[33766 rows x 11 columns]\n"
     ]
    }
   ],
   "source": [
    "print (agenda)"
   ]
  },
  {
   "cell_type": "markdown",
   "metadata": {},
   "source": [
    "### Junção dos datasets.;"
   ]
  },
  {
   "cell_type": "code",
   "execution_count": 8,
   "metadata": {},
   "outputs": [
    {
     "name": "stdout",
     "output_type": "stream",
     "text": [
      "0, \n",
      "100, 200, 300, 400, 500, 600, 700, 800, 900, 1000, 1100, 1200, 1300, 1400, 1500, 1600, 1700, 1800, 1900, 2000, \n",
      "2100, 2200, 2300, 2400, 2500, 2600, 2700, 2800, 2900, 3000, 3100, 3200, 3300, 3400, 3500, 3600, 3700, 3800, 3900, 4000, \n",
      "4100, 4200, 4300, 4400, 4500, 4600, 4700, 4800, 4900, 5000, 5100, 5200, 5300, 5400, 5500, 5600, 5700, 5800, 5900, 6000, \n",
      "6100, 6200, 6300, 6400, 6500, 6600, 6700, 6800, 6900, 7000, 7100, 7200, 7300, 7400, 7500, 7600, 7700, 7800, 7900, 8000, \n",
      "8100, 8200, 8300, 8400, 8500, 8600, 8700, 8800, 8900, 9000, 9100, 9200, 9300, 9400, 9500, 9600, 9700, 9800, 9900, 10000, \n",
      "10100, 10200, 10300, 10400, 10500, 10600, 10700, 10800, 10900, 11000, 11100, 11200, 11300, 11400, 11500, 11600, 11700, 11800, 11900, 12000, \n",
      "12100, 12200, 12300, 12400, 12500, 12600, 12700, 12800, 12900, 13000, 13100, 13200, 13300, 13400, 13500, 13600, 13700, 13800, 13900, 14000, \n",
      "14100, 14200, 14300, 14400, 14500, 14600, 14700, 14800, 14900, 15000, 15100, 15200, 15300, 15400, 15500, 15600, 15700, 15800, 15900, 16000, \n",
      "16100, 16200, 16300, 16400, 16500, 16600, 16700, 16800, 16900, 17000, 17100, 17200, 17300, 17400, 17500, 17600, 17700, 17800, 17900, 18000, \n",
      "18100, 18200, 18300, 18400, 18500, 18600, 18700, 18800, 18900, 19000, 19100, 19200, 19300, 19400, 19500, 19600, 19700, 19800, 19900, 20000, \n",
      "20100, 20200, 20300, 20400, 20500, 20600, 20700, 20800, 20900, 21000, 21100, 21200, 21300, 21400, 21500, 21600, 21700, 21800, 21900, 22000, \n",
      "22100, 22200, 22300, 22400, 22500, 22600, 22700, 22800, 22900, 23000, 23100, 23200, 23300, 23400, 23500, 23600, 23700, 23800, 23900, 24000, \n",
      "24100, 24200, 24300, 24400, 24500, 24600, 24700, 24800, 24900, 25000, 25100, 25200, 25300, 25400, 25500, 25600, 25700, 25800, 25900, 26000, \n",
      "26100, 26200, 26300, 26400, 26500, 26600, 26700, 26800, 26900, 27000, 27100, 27200, 27300, 27400, 27500, 27600, 27700, 27800, 27900, 28000, \n",
      "28100, 28200, 28300, 28400, 28500, 28600, 28700, 28800, 28900, 29000, 29100, 29200, 29300, 29400, 29500, 29600, 29700, 29800, 29900, 30000, \n",
      "30100, 30200, 30300, 30400, 30500, 30600, 30700, 30800, 30900, 31000, 31100, 31200, 31300, 31400, 31500, 31600, 31700, 31800, 31900, 32000, \n",
      "32100, 32200, 32300, 32400, 32500, 32600, 32700, 32800, 32900, 33000, 33100, 33200, 33300, 33400, 33500, 33600, 33700, "
     ]
    }
   ],
   "source": [
    "import sys\n",
    "for idx in agenda.index:\n",
    "    cd_aviso = agenda.loc[idx, 'CD_AVISO_CIRURGIA']\n",
    "    prods = produtos[produtos['CD_AVISO_CIRURGIA'] == cd_aviso]\n",
    "    procs = procedimentos[procedimentos['CD_AVISO_CIRURGIA'] == cd_aviso]\n",
    "    \n",
    "    if pd.isnull(agenda.loc[idx, 'DS_OBSERVACAO']):\n",
    "        agenda.loc[idx, 'DS_OBSERVACAO'] = ''\n",
    "    if len(prods) > 0:\n",
    "        agenda.loc[idx, 'DS_OBSERVACAO'] += ' ' + (' ').join(prods['DS_PRODUTO'].astype('str').values)\n",
    "    if len(procs) > 0:\n",
    "        agenda.loc[idx, 'DS_OBSERVACAO'] += ' ' + (' ').join(procs['PROCEDIMENTO'].astype('str').values)\n",
    "    if (idx % 100) == 0:\n",
    "        sys.stdout.write(str(idx) + ', ')\n",
    "        sys.stdout.flush()\n",
    "    if (idx % 2000) == 0:\n",
    "        print('')\n",
    "\n",
    "  "
   ]
  },
  {
   "cell_type": "markdown",
   "metadata": {},
   "source": [
    "### Configuração do dataset"
   ]
  },
  {
   "cell_type": "code",
   "execution_count": 9,
   "metadata": {},
   "outputs": [
    {
     "data": {
      "text/plain": [
       "(33766, 501)"
      ]
     },
     "execution_count": 9,
     "metadata": {},
     "output_type": "execute_result"
    }
   ],
   "source": [
    "import numpy as np\n",
    "num_features = 500\n",
    "vectorizer = TfidfVectorizer(max_features=num_features).fit(agenda['DS_OBSERVACAO'].values)\n",
    "data = vectorizer.transform(agenda['DS_OBSERVACAO'].values)\n",
    "data = data.todense()\n",
    "## adiciona idade\n",
    "mean_idade = int(np.mean(agenda['VL_IDADE']))\n",
    "values = {'VL_IDADE': mean_idade}\n",
    "agenda.fillna(value=values, inplace=True)\n",
    "idades = agenda['VL_IDADE'].astype('int').values.reshape(data.shape[0],1)\n",
    "data = np.append(data, idades, axis=1)\n",
    "data.shape"
   ]
  },
  {
   "cell_type": "code",
   "execution_count": 10,
   "metadata": {},
   "outputs": [
    {
     "name": "stdout",
     "output_type": "stream",
     "text": [
      "0        1\n",
      "1        1\n",
      "2        1\n",
      "3        0\n",
      "4        0\n",
      "        ..\n",
      "33761    0\n",
      "33762    1\n",
      "33763    0\n",
      "33764    0\n",
      "33765    0\n",
      "Name: SN_UTI, Length: 33766, dtype: int64\n"
     ]
    }
   ],
   "source": [
    "print(agenda['SN_UTI'])"
   ]
  },
  {
   "cell_type": "markdown",
   "metadata": {},
   "source": [
    "### Criação dos dados de treino e teste e aplicação de RandomForest"
   ]
  },
  {
   "cell_type": "code",
   "execution_count": 52,
   "metadata": {},
   "outputs": [
    {
     "name": "stderr",
     "output_type": "stream",
     "text": [
      "C:\\Users\\maicon.freitas\\AppData\\Local\\Continuum\\anaconda3\\lib\\site-packages\\sklearn\\model_selection\\_split.py:1978: FutureWarning: The default value of cv will change from 3 to 5 in version 0.22. Specify it explicitly to silence this warning.\n",
      "  warnings.warn(CV_WARNING, FutureWarning)\n"
     ]
    },
    {
     "data": {
      "text/plain": [
       "(array([0.89472281, 0.90075522, 0.90031097]), 0.8985963357673775)"
      ]
     },
     "execution_count": 52,
     "metadata": {},
     "output_type": "execute_result"
    }
   ],
   "source": [
    "scores = cross_val_score(RandomForestClassifier(n_estimators=50), data, agenda['SN_UTI'])\n",
    "classifier = RandomForestClassifier(n_estimators=50).fit(data, agenda['SN_UTI'].values)\n",
    "scores, np.mean(scores)\n",
    "\n"
   ]
  },
  {
   "cell_type": "code",
   "execution_count": 53,
   "metadata": {},
   "outputs": [],
   "source": [
    "features = {}"
   ]
  },
  {
   "cell_type": "markdown",
   "metadata": {},
   "source": [
    "### Determina o peso das features"
   ]
  },
  {
   "cell_type": "code",
   "execution_count": 54,
   "metadata": {},
   "outputs": [],
   "source": [
    "import operator\n",
    "features = {}\n",
    "ridx = {idx:term for term,idx in vectorizer.vocabulary_.items()}\n",
    "for i,v in enumerate(classifier.feature_importances_):\n",
    "    if i >= num_features:\n",
    "        features['IDADE'] = v\n",
    "        break\n",
    "        \n",
    "    if not ridx[i] in features.keys():\n",
    "        features[ridx[i]] = v\n",
    "    else:\n",
    "        features[ridx[i]] += v\n",
    "        if (i % 100) == 0:\n",
    "            sys.stdout.write(str(i) + ', ')\n",
    "            sys.stdout.flush()\n"
   ]
  },
  {
   "cell_type": "code",
   "execution_count": 55,
   "metadata": {},
   "outputs": [
    {
     "data": {
      "text/plain": [
       "[('cti', 0.09922276432226035),\n",
       " ('IDADE', 0.08139431922806015),\n",
       " ('internado', 0.03857282174070416),\n",
       " ('paciente', 0.026479998965129436),\n",
       " ('nan', 0.024545694855751105),\n",
       " ('dr', 0.01741026117654804),\n",
       " ('dn', 0.0164451106235299),\n",
       " ('enf', 0.016153263453143166),\n",
       " ('por', 0.01537713404354683),\n",
       " ('no', 0.0147820768417614),\n",
       " ('na', 0.014503949347724018),\n",
       " ('ag', 0.014156173854496563),\n",
       " ('amb', 0.013941112851564012),\n",
       " ('com', 0.013384434045754628),\n",
       " ('mat', 0.013105547430219345),\n",
       " ('docs', 0.012790214204260542),\n",
       " ('internada', 0.011914375185346389),\n",
       " ('pos', 0.011248110017107103),\n",
       " ('leito', 0.010285496533066684),\n",
       " ('bx', 0.010100434201882058)]"
      ]
     },
     "execution_count": 55,
     "metadata": {},
     "output_type": "execute_result"
    }
   ],
   "source": [
    "sorted(features.items(), key=operator.itemgetter(1), reverse=True)[:20]"
   ]
  },
  {
   "cell_type": "markdown",
   "metadata": {},
   "source": [
    "### Exporta o modelo"
   ]
  },
  {
   "cell_type": "code",
   "execution_count": 56,
   "metadata": {},
   "outputs": [],
   "source": [
    "import pickle\n",
    "pickle.dump(classifier, open('agenda_classifier.pckls', 'wb'))\n",
    "pickle.dump(vectorizer, open('agenda_vectorizer.pckls', 'wb'))\n",
    "agenda.to_csv('agenda.csv.gz', compression='gzip', index=None)\n",
    "#from google.colab import files\n",
    "#files.download('agenda.csv.gz')"
   ]
  },
  {
   "cell_type": "markdown",
   "metadata": {},
   "source": [
    "### Aplica o modelo"
   ]
  },
  {
   "cell_type": "code",
   "execution_count": 68,
   "metadata": {},
   "outputs": [
    {
     "ename": "ValueError",
     "evalue": "Length mismatch: Expected axis has 0 elements, new values have 11 elements",
     "output_type": "error",
     "traceback": [
      "\u001b[1;31m---------------------------------------------------------------------------\u001b[0m",
      "\u001b[1;31mValueError\u001b[0m                                Traceback (most recent call last)",
      "\u001b[1;32m<ipython-input-68-76db0d1a771c>\u001b[0m in \u001b[0;36m<module>\u001b[1;34m\u001b[0m\n\u001b[0;32m      1\u001b[0m \u001b[0magendaTeste\u001b[0m \u001b[1;33m=\u001b[0m \u001b[0mpd\u001b[0m\u001b[1;33m.\u001b[0m\u001b[0mread_excel\u001b[0m\u001b[1;33m(\u001b[0m\u001b[1;34m'obs_2019.xlsx'\u001b[0m\u001b[1;33m,\u001b[0m \u001b[0mnrows\u001b[0m\u001b[1;33m=\u001b[0m\u001b[1;36m5000\u001b[0m\u001b[1;33m,\u001b[0m \u001b[0mskiprows\u001b[0m\u001b[1;33m=\u001b[0m\u001b[0mcut_num\u001b[0m\u001b[1;33m)\u001b[0m\u001b[1;33m\u001b[0m\u001b[1;33m\u001b[0m\u001b[0m\n\u001b[0;32m      2\u001b[0m \u001b[1;33m\u001b[0m\u001b[0m\n\u001b[1;32m----> 3\u001b[1;33m \u001b[0magendaTeste\u001b[0m\u001b[1;33m.\u001b[0m\u001b[0mcolumns\u001b[0m \u001b[1;33m=\u001b[0m \u001b[0magenda\u001b[0m\u001b[1;33m.\u001b[0m\u001b[0mcolumns\u001b[0m\u001b[1;33m\u001b[0m\u001b[1;33m\u001b[0m\u001b[0m\n\u001b[0m\u001b[0;32m      4\u001b[0m \u001b[1;33m\u001b[0m\u001b[0m\n\u001b[0;32m      5\u001b[0m \u001b[1;32mfor\u001b[0m \u001b[0midx\u001b[0m \u001b[1;32min\u001b[0m \u001b[0magendaTeste\u001b[0m\u001b[1;33m.\u001b[0m\u001b[0mindex\u001b[0m\u001b[1;33m:\u001b[0m\u001b[1;33m\u001b[0m\u001b[1;33m\u001b[0m\u001b[0m\n",
      "\u001b[1;32m~\\AppData\\Local\\Continuum\\anaconda3\\lib\\site-packages\\pandas\\core\\generic.py\u001b[0m in \u001b[0;36m__setattr__\u001b[1;34m(self, name, value)\u001b[0m\n\u001b[0;32m   5190\u001b[0m         \u001b[1;32mtry\u001b[0m\u001b[1;33m:\u001b[0m\u001b[1;33m\u001b[0m\u001b[1;33m\u001b[0m\u001b[0m\n\u001b[0;32m   5191\u001b[0m             \u001b[0mobject\u001b[0m\u001b[1;33m.\u001b[0m\u001b[0m__getattribute__\u001b[0m\u001b[1;33m(\u001b[0m\u001b[0mself\u001b[0m\u001b[1;33m,\u001b[0m \u001b[0mname\u001b[0m\u001b[1;33m)\u001b[0m\u001b[1;33m\u001b[0m\u001b[1;33m\u001b[0m\u001b[0m\n\u001b[1;32m-> 5192\u001b[1;33m             \u001b[1;32mreturn\u001b[0m \u001b[0mobject\u001b[0m\u001b[1;33m.\u001b[0m\u001b[0m__setattr__\u001b[0m\u001b[1;33m(\u001b[0m\u001b[0mself\u001b[0m\u001b[1;33m,\u001b[0m \u001b[0mname\u001b[0m\u001b[1;33m,\u001b[0m \u001b[0mvalue\u001b[0m\u001b[1;33m)\u001b[0m\u001b[1;33m\u001b[0m\u001b[1;33m\u001b[0m\u001b[0m\n\u001b[0m\u001b[0;32m   5193\u001b[0m         \u001b[1;32mexcept\u001b[0m \u001b[0mAttributeError\u001b[0m\u001b[1;33m:\u001b[0m\u001b[1;33m\u001b[0m\u001b[1;33m\u001b[0m\u001b[0m\n\u001b[0;32m   5194\u001b[0m             \u001b[1;32mpass\u001b[0m\u001b[1;33m\u001b[0m\u001b[1;33m\u001b[0m\u001b[0m\n",
      "\u001b[1;32mpandas\\_libs\\properties.pyx\u001b[0m in \u001b[0;36mpandas._libs.properties.AxisProperty.__set__\u001b[1;34m()\u001b[0m\n",
      "\u001b[1;32m~\\AppData\\Local\\Continuum\\anaconda3\\lib\\site-packages\\pandas\\core\\generic.py\u001b[0m in \u001b[0;36m_set_axis\u001b[1;34m(self, axis, labels)\u001b[0m\n\u001b[0;32m    688\u001b[0m \u001b[1;33m\u001b[0m\u001b[0m\n\u001b[0;32m    689\u001b[0m     \u001b[1;32mdef\u001b[0m \u001b[0m_set_axis\u001b[0m\u001b[1;33m(\u001b[0m\u001b[0mself\u001b[0m\u001b[1;33m,\u001b[0m \u001b[0maxis\u001b[0m\u001b[1;33m,\u001b[0m \u001b[0mlabels\u001b[0m\u001b[1;33m)\u001b[0m\u001b[1;33m:\u001b[0m\u001b[1;33m\u001b[0m\u001b[1;33m\u001b[0m\u001b[0m\n\u001b[1;32m--> 690\u001b[1;33m         \u001b[0mself\u001b[0m\u001b[1;33m.\u001b[0m\u001b[0m_data\u001b[0m\u001b[1;33m.\u001b[0m\u001b[0mset_axis\u001b[0m\u001b[1;33m(\u001b[0m\u001b[0maxis\u001b[0m\u001b[1;33m,\u001b[0m \u001b[0mlabels\u001b[0m\u001b[1;33m)\u001b[0m\u001b[1;33m\u001b[0m\u001b[1;33m\u001b[0m\u001b[0m\n\u001b[0m\u001b[0;32m    691\u001b[0m         \u001b[0mself\u001b[0m\u001b[1;33m.\u001b[0m\u001b[0m_clear_item_cache\u001b[0m\u001b[1;33m(\u001b[0m\u001b[1;33m)\u001b[0m\u001b[1;33m\u001b[0m\u001b[1;33m\u001b[0m\u001b[0m\n\u001b[0;32m    692\u001b[0m \u001b[1;33m\u001b[0m\u001b[0m\n",
      "\u001b[1;32m~\\AppData\\Local\\Continuum\\anaconda3\\lib\\site-packages\\pandas\\core\\internals\\managers.py\u001b[0m in \u001b[0;36mset_axis\u001b[1;34m(self, axis, new_labels)\u001b[0m\n\u001b[0;32m    181\u001b[0m             raise ValueError(\n\u001b[0;32m    182\u001b[0m                 \u001b[1;34m\"Length mismatch: Expected axis has {old} elements, new \"\u001b[0m\u001b[1;33m\u001b[0m\u001b[1;33m\u001b[0m\u001b[0m\n\u001b[1;32m--> 183\u001b[1;33m                 \u001b[1;34m\"values have {new} elements\"\u001b[0m\u001b[1;33m.\u001b[0m\u001b[0mformat\u001b[0m\u001b[1;33m(\u001b[0m\u001b[0mold\u001b[0m\u001b[1;33m=\u001b[0m\u001b[0mold_len\u001b[0m\u001b[1;33m,\u001b[0m \u001b[0mnew\u001b[0m\u001b[1;33m=\u001b[0m\u001b[0mnew_len\u001b[0m\u001b[1;33m)\u001b[0m\u001b[1;33m\u001b[0m\u001b[1;33m\u001b[0m\u001b[0m\n\u001b[0m\u001b[0;32m    184\u001b[0m             )\n\u001b[0;32m    185\u001b[0m \u001b[1;33m\u001b[0m\u001b[0m\n",
      "\u001b[1;31mValueError\u001b[0m: Length mismatch: Expected axis has 0 elements, new values have 11 elements"
     ]
    }
   ],
   "source": [
    "agendaTeste = pd.read_excel('obs_2019.xlsx', nrows=5000, skiprows=cut_num, header=0)\n",
    "\n",
    "agendaTeste.columns = agenda.columns\n",
    "\n",
    "for idx in agendaTeste.index:\n",
    "    cd_aviso = agendaTeste.loc[idx, 'CD_AVISO_CIRURGIA']\n",
    "    prods = produtos[produtos['CD_AVISO_CIRURGIA'] == cd_aviso]\n",
    "    procs = procedimentos[procedimentos['CD_AVISO_CIRURGIA'] == cd_aviso]\n",
    "   \n",
    "    #if len(prods) > 0:\n",
    "\n",
    "        #agendaTeste.loc[idx, 'DS_OBSERVACAO'] += ' ' + (' ').join(prods['DS_PRODUTO'].astype)\n",
    "\n",
    "    #if len(procs) > 0:\n",
    "        #agendaTeste.loc[idx, 'DS_OBSERVACAO'] += ' ' + (' ').join(procs['PROCEDIMENTO'].astype)\n",
    "        \n",
    "    if (idx % 100) == 0:\n",
    "        sys.stdout.write(str(idx) + ', ')\n",
    "        sys.stdout.flush()\n"
   ]
  },
  {
   "cell_type": "code",
   "execution_count": 63,
   "metadata": {},
   "outputs": [],
   "source": [
    "data_teste = vectorizer.transform(agendaTeste['DS_OBSERVACAO'].astype('str').values)\n",
    "data_teste = data_teste.todense()"
   ]
  },
  {
   "cell_type": "code",
   "execution_count": 64,
   "metadata": {},
   "outputs": [
    {
     "data": {
      "text/plain": [
       "(5000, 501)"
      ]
     },
     "execution_count": 64,
     "metadata": {},
     "output_type": "execute_result"
    }
   ],
   "source": [
    "mean_idade = int(np.mean(agendaTeste['VL_IDADE']))\n",
    "values = {'VL_IDADE': mean_idade}\n",
    "agendaTeste.fillna(value=values, inplace=True)\n",
    "idades = agendaTeste['VL_IDADE'].astype('int').values.reshape(data_teste.shape[0],1)\n",
    "\n",
    "data_teste = np.append(data_teste, idades, axis=1)\n",
    "data_teste.shape"
   ]
  },
  {
   "cell_type": "code",
   "execution_count": 65,
   "metadata": {},
   "outputs": [],
   "source": [
    "agendaTeste['pred'] = classifier.predict(data_teste)"
   ]
  },
  {
   "cell_type": "markdown",
   "metadata": {},
   "source": [
    "### Resultados"
   ]
  },
  {
   "cell_type": "code",
   "execution_count": 66,
   "metadata": {},
   "outputs": [
    {
     "name": "stdout",
     "output_type": "stream",
     "text": [
      "              precision    recall  f1-score   support\n",
      "\n",
      "           0       0.95      1.00      0.97      4449\n",
      "           1       0.98      0.59      0.74       551\n",
      "\n",
      "    accuracy                           0.95      5000\n",
      "   macro avg       0.97      0.79      0.86      5000\n",
      "weighted avg       0.95      0.95      0.95      5000\n",
      "\n"
     ]
    }
   ],
   "source": [
    "from sklearn.metrics import classification_report\n",
    "print(classification_report(agendaTeste['SN_UTI'], agendaTeste['pred'].values))"
   ]
  },
  {
   "cell_type": "markdown",
   "metadata": {},
   "source": [
    "### Publica Resultados"
   ]
  },
  {
   "cell_type": "code",
   "execution_count": null,
   "metadata": {},
   "outputs": [],
   "source": [
    "novo_cubo=1\n",
    "\n",
    "if novo_cubo == 1:\n",
    "    newDatasetIdmes, newTableIdmes = conn.create_dataset(data_frame= agendaTeste, dataset_name='Cubo_Agendamentos', table_name='Agenda')\n",
    "else:\n",
    "    conn.update_dataset(data_frame=agendaTeste, dataset_id='6EED37184F7DD1E192C43C9CDCF78AC9', table_name='Agendamentos', update_policy='replace')\n",
    "\n",
    "\n"
   ]
  }
 ],
 "metadata": {
  "kernelspec": {
   "display_name": "Python 3",
   "language": "python",
   "name": "python3"
  },
  "language_info": {
   "codemirror_mode": {
    "name": "ipython",
    "version": 3
   },
   "file_extension": ".py",
   "mimetype": "text/x-python",
   "name": "python",
   "nbconvert_exporter": "python",
   "pygments_lexer": "ipython3",
   "version": "3.7.4"
  }
 },
 "nbformat": 4,
 "nbformat_minor": 2
}
