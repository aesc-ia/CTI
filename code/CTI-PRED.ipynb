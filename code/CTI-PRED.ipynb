{
 "cells": [
  {
   "cell_type": "markdown",
   "metadata": {},
   "source": [
    "### Importação do pacote para uso de cubos do Microstrategy"
   ]
  },
  {
   "cell_type": "code",
   "execution_count": 1,
   "metadata": {},
   "outputs": [],
   "source": [
    "from mstrio import microstrategy\n",
    "import pickle"
   ]
  },
  {
   "cell_type": "code",
   "execution_count": 2,
   "metadata": {},
   "outputs": [],
   "source": [
    "import pandas as pd\n",
    "from sklearn.feature_extraction.text import TfidfVectorizer\n",
    "from nltk.corpus import stopwords\n",
    "from sklearn.ensemble import RandomForestClassifier\n",
    "from sklearn.model_selection import cross_val_score\n",
    "import numpy"
   ]
  },
  {
   "cell_type": "code",
   "execution_count": null,
   "metadata": {},
   "outputs": [],
   "source": []
  },
  {
   "cell_type": "code",
   "execution_count": null,
   "metadata": {},
   "outputs": [],
   "source": [
    "conn = microstrategy.Connection(base_url=\"http://aesc-biweb-01.hmd.local:8080/MicroStrategyLibrary/api\", username=\"administrator\", password=\"ferias2018\", project_name=\"IA\")\n",
    "conn.connect()"
   ]
  },
  {
   "cell_type": "markdown",
   "metadata": {},
   "source": [
    "### Leitura dos Datasets"
   ]
  },
  {
   "cell_type": "code",
   "execution_count": null,
   "metadata": {},
   "outputs": [],
   "source": [
    "agenda2 = conn.get_report(report_id='D4FADEF74C36C94C470776A7B581B030')\n",
    "produtos2 = conn.get_report(report_id='F2C5D89B4A8DB6AAD16F1A9EC9230829')\n",
    "procedimentos2 = conn.get_report(report_id='4D0CC4FB4C5B18466D64FBA072B1AD27')"
   ]
  },
  {
   "cell_type": "markdown",
   "metadata": {},
   "source": [
    "### Preciso exportar para conseguir que os objetos ficam com o mesmo datatype"
   ]
  },
  {
   "cell_type": "code",
   "execution_count": null,
   "metadata": {},
   "outputs": [],
   "source": [
    "agenda2.to_excel('obs_2019.xlsx')\n",
    "agenda2.to_excel('prod_2019.xlsx')\n",
    "agenda2.to_excel('proc_2019.xlsx')"
   ]
  },
  {
   "cell_type": "markdown",
   "metadata": {},
   "source": [
    "### Leitura do excel recem exportado."
   ]
  },
  {
   "cell_type": "code",
   "execution_count": null,
   "metadata": {},
   "outputs": [],
   "source": [
    "cut_num = 30000\n",
    "agenda = pd.read_excel('obs_2019.xlsx', nrows=cut_num)\n",
    "produtos = pd.read_excel('prod_2019.xlsx') \n",
    "procedimentos = pd.read_excel('proc_2019.xlsx')"
   ]
  },
  {
   "cell_type": "code",
   "execution_count": null,
   "metadata": {},
   "outputs": [],
   "source": [
    "agenda = agenda.astype({'CD_AVISO_CIRURGIA':int})\n",
    "#agenda2 = agenda2.astype({'CD_AVISO_CIRURGIA':int})"
   ]
  },
  {
   "cell_type": "markdown",
   "metadata": {},
   "source": [
    "### Junção dos datasets.;"
   ]
  },
  {
   "cell_type": "code",
   "execution_count": null,
   "metadata": {},
   "outputs": [],
   "source": [
    "import sys\n",
    "for idx in agenda.index:\n",
    "    cd_aviso = agenda.loc[idx, 'CD_AVISO_CIRURGIA']\n",
    "    prods = produtos[produtos['CD_AVISO_CIRURGIA'] == cd_aviso]\n",
    "    procs = procedimentos[procedimentos['CD_AVISO_CIRURGIA'] == cd_aviso]\n",
    "    \n",
    "    if pd.isnull(agenda.loc[idx, 'DS_OBSERVACAO']):\n",
    "        agenda.loc[idx, 'DS_OBSERVACAO'] = ''\n",
    "    if len(prods) > 0:\n",
    "        agenda.loc[idx, 'DS_OBSERVACAO'] += ' ' + (' ').join(prods['DS_PRODUTO'].astype('str').values)\n",
    "    if len(procs) > 0:\n",
    "        agenda.loc[idx, 'DS_OBSERVACAO'] += ' ' + (' ').join(procs['PROCEDIMENTO'].astype('str').values)\n",
    "    if (idx % 100) == 0:\n",
    "        sys.stdout.write(str(idx) + ', ')\n",
    "        sys.stdout.flush()\n",
    "    if (idx % 2000) == 0:\n",
    "        print('')\n",
    "\n",
    "  "
   ]
  },
  {
   "cell_type": "markdown",
   "metadata": {},
   "source": [
    "### Configuração do dataset"
   ]
  },
  {
   "cell_type": "code",
   "execution_count": null,
   "metadata": {},
   "outputs": [],
   "source": [
    "import numpy as np\n",
    "num_features = 500\n",
    "#vectorizer = TfidfVectorizer(max_features=num_features).fit(agenda['DS_OBSERVACAO'].values)\n",
    "vectorizer = pickle.load(open('agenda_vectorizer.pckls', 'rb'))\n",
    "data = vectorizer.transform(agenda['DS_OBSERVACAO'].values)\n",
    "data = data.todense()\n",
    "## adiciona idade\n",
    "mean_idade = int(np.mean(agenda['VL_IDADE']))\n",
    "values = {'VL_IDADE': mean_idade}\n",
    "agenda.fillna(value=values, inplace=True)\n",
    "idades = agenda['VL_IDADE'].astype('int').values.reshape(data.shape[0],1)\n",
    "data = np.append(data, idades, axis=1)\n",
    "data.shape\n"
   ]
  },
  {
   "cell_type": "markdown",
   "metadata": {},
   "source": [
    "### Criação dos dados de treino e teste e aplicação de RandomForest"
   ]
  },
  {
   "cell_type": "code",
   "execution_count": null,
   "metadata": {},
   "outputs": [],
   "source": [
    "classifier = pickle.load(open('agenda_classifier.pckls', 'rb'))\n",
    "#scores = cross_val_score(RandomForestClassifier(n_estimators=50), data, agenda['SN_UTI'])\n",
    "#classifier = RandomForestClassifier(n_estimators=50).fit(data, agenda['SN_UTI'].values)\n",
    "#scores, np.mean(scores)\n",
    "\n"
   ]
  },
  {
   "cell_type": "code",
   "execution_count": null,
   "metadata": {},
   "outputs": [],
   "source": [
    "features = {}"
   ]
  },
  {
   "cell_type": "markdown",
   "metadata": {},
   "source": [
    "### Determina o peso das features"
   ]
  },
  {
   "cell_type": "code",
   "execution_count": null,
   "metadata": {},
   "outputs": [],
   "source": [
    "import operator\n",
    "features = {}\n",
    "ridx = {idx:term for term,idx in vectorizer.vocabulary_.items()}\n",
    "for i,v in enumerate(classifier.feature_importances_):\n",
    "    if i >= num_features:\n",
    "        features['IDADE'] = v\n",
    "        break\n",
    "        \n",
    "    if not ridx[i] in features.keys():\n",
    "        features[ridx[i]] = v\n",
    "    else:\n",
    "        features[ridx[i]] += v\n",
    "        if (i % 100) == 0:\n",
    "            sys.stdout.write(str(i) + ', ')\n",
    "            sys.stdout.flush()\n"
   ]
  },
  {
   "cell_type": "code",
   "execution_count": null,
   "metadata": {},
   "outputs": [],
   "source": [
    "sorted(features.items(), key=operator.itemgetter(1), reverse=True)[:20]"
   ]
  },
  {
   "cell_type": "markdown",
   "metadata": {},
   "source": [
    "### Exporta o modelo"
   ]
  },
  {
   "cell_type": "code",
   "execution_count": null,
   "metadata": {},
   "outputs": [],
   "source": [
    "import pickle\n",
    "#pickle.dump(classifier, open('agenda_classifier.pckls', 'wb'))\n",
    "#pickle.dump(vectorizer, open('agenda_vectorizer.pckls', 'wb'))\n",
    "#agenda.to_csv('agenda.csv.gz', compression='gzip', index=None)\n",
    "#from google.colab import files\n",
    "#files.download('agenda.csv.gz')"
   ]
  },
  {
   "cell_type": "markdown",
   "metadata": {},
   "source": [
    "### Aplica o modelo"
   ]
  },
  {
   "cell_type": "code",
   "execution_count": null,
   "metadata": {},
   "outputs": [],
   "source": [
    "agendaTeste = pd.read_excel('obs_2019.xlsx')\n",
    "\n",
    "agendaTeste.columns = agenda.columns\n",
    "\n",
    "for idx in agendaTeste.index:\n",
    "    cd_aviso = agendaTeste.loc[idx, 'CD_AVISO_CIRURGIA']\n",
    "    prods = produtos[produtos['CD_AVISO_CIRURGIA'] == cd_aviso]\n",
    "    procs = procedimentos[procedimentos['CD_AVISO_CIRURGIA'] == cd_aviso]\n",
    "   \n",
    "    #if len(prods) > 0:\n",
    "\n",
    "        #agendaTeste.loc[idx, 'DS_OBSERVACAO'] += ' ' + (' ').join(prods['DS_PRODUTO'].astype)\n",
    "\n",
    "    #if len(procs) > 0:\n",
    "        #agendaTeste.loc[idx, 'DS_OBSERVACAO'] += ' ' + (' ').join(procs['PROCEDIMENTO'].astype)\n",
    "        \n",
    "    if (idx % 100) == 0:\n",
    "        sys.stdout.write(str(idx) + ', ')\n",
    "        sys.stdout.flush()\n"
   ]
  },
  {
   "cell_type": "code",
   "execution_count": null,
   "metadata": {},
   "outputs": [],
   "source": [
    "data_teste = vectorizer.transform(agendaTeste['DS_OBSERVACAO'].astype('str').values)\n",
    "data_teste = data_teste.todense()"
   ]
  },
  {
   "cell_type": "code",
   "execution_count": null,
   "metadata": {},
   "outputs": [],
   "source": [
    "mean_idade = int(np.mean(agendaTeste['VL_IDADE']))\n",
    "values = {'VL_IDADE': mean_idade}\n",
    "agendaTeste.fillna(value=values, inplace=True)\n",
    "idades = agendaTeste['VL_IDADE'].astype('int').values.reshape(data_teste.shape[0],1)\n",
    "\n",
    "data_teste = np.append(data_teste, idades, axis=1)\n",
    "data_teste.shape"
   ]
  },
  {
   "cell_type": "code",
   "execution_count": null,
   "metadata": {},
   "outputs": [],
   "source": [
    "agendaTeste['pred'] = classifier.predict(data_teste)\n",
    "\n",
    "proba_ar = classifier.predict_proba(data_teste)\n",
    "agendaTeste['pred_0'] = proba_ar[:,0]\n",
    "agendaTeste['pred_1'] = proba_ar[:,1]"
   ]
  },
  {
   "cell_type": "markdown",
   "metadata": {},
   "source": [
    "### Resultados"
   ]
  },
  {
   "cell_type": "code",
   "execution_count": null,
   "metadata": {},
   "outputs": [],
   "source": [
    "from sklearn.metrics import classification_report\n",
    "print(classification_report(agendaTeste['SN_UTI'], agendaTeste['pred'].values))"
   ]
  },
  {
   "cell_type": "code",
   "execution_count": null,
   "metadata": {},
   "outputs": [],
   "source": [
    "agenda2['DATA_CIR2'] = pd.to_datetime(agendaTeste['DATA_CIR']).dt.strftime('%d/%m/%Y')"
   ]
  },
  {
   "cell_type": "markdown",
   "metadata": {},
   "source": [
    "### Publica Resultados"
   ]
  },
  {
   "cell_type": "code",
   "execution_count": null,
   "metadata": {},
   "outputs": [],
   "source": [
    "novo_cubo=0\n",
    "\n",
    "if novo_cubo == 1:\n",
    "    newDatasetIdmes, newTableIdmes = conn.create_dataset(data_frame= agendaTeste, dataset_name='Cubo_Result_pred_CTI', table_name='Agenda')\n",
    "else:\n",
    "    conn.update_dataset(data_frame=agendaTeste, dataset_id='E7FD43FC473B345D98C33DBB15158C63', table_name='Agenda', update_policy='replace')\n",
    "\n",
    "\n"
   ]
  },
  {
   "cell_type": "code",
   "execution_count": null,
   "metadata": {},
   "outputs": [],
   "source": [
    "print(\"a\")"
   ]
  },
  {
   "cell_type": "code",
   "execution_count": null,
   "metadata": {},
   "outputs": [],
   "source": []
  }
 ],
 "metadata": {
  "kernelspec": {
   "display_name": "Python 3",
   "language": "python",
   "name": "python3"
  },
  "language_info": {
   "codemirror_mode": {
    "name": "ipython",
    "version": 3
   },
   "file_extension": ".py",
   "mimetype": "text/x-python",
   "name": "python",
   "nbconvert_exporter": "python",
   "pygments_lexer": "ipython3",
   "version": "3.7.4"
  }
 },
 "nbformat": 4,
 "nbformat_minor": 2
}
